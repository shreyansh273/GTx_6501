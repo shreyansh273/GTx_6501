{
  "nbformat": 4,
  "nbformat_minor": 0,
  "metadata": {
    "colab": {
      "name": "Linear programming optimization.ipynb",
      "provenance": [],
      "authorship_tag": "ABX9TyMSw4w56u7/P/1QMyo3qpss",
      "include_colab_link": true
    },
    "kernelspec": {
      "name": "python3",
      "display_name": "Python 3"
    },
    "language_info": {
      "name": "python"
    }
  },
  "cells": [
    {
      "cell_type": "markdown",
      "metadata": {
        "id": "view-in-github",
        "colab_type": "text"
      },
      "source": [
        "<a href=\"https://colab.research.google.com/github/shreyansh273/GTx_6501/blob/main/Linear_programming_optimization.ipynb\" target=\"_parent\"><img src=\"https://colab.research.google.com/assets/colab-badge.svg\" alt=\"Open In Colab\"/></a>"
      ]
    },
    {
      "cell_type": "code",
      "metadata": {
        "id": "MczK-6Fsb621"
      },
      "source": [
        "import numpy as np\n",
        "from scipy.optimize import minimize"
      ],
      "execution_count": 2,
      "outputs": []
    },
    {
      "cell_type": "code",
      "metadata": {
        "id": "dKzu2bMTbAlD"
      },
      "source": [
        "def objective(x):\n",
        "  return x[0]*x[3]*(x[0]+x[1]+x[2])+x[2]"
      ],
      "execution_count": 3,
      "outputs": []
    },
    {
      "cell_type": "code",
      "metadata": {
        "id": "EzKrnHmHbvsJ"
      },
      "source": [
        "def constraint1(x):\n",
        "  return x[0]*x[1]*x[2]*x[3] - 25.0\n",
        "\n",
        "def constraint2(x):\n",
        "  return x[0]*x[0]+x[1]*x[1]+x[2]*x[2]+x[3]*x[3] - 40"
      ],
      "execution_count": 6,
      "outputs": []
    },
    {
      "cell_type": "code",
      "metadata": {
        "colab": {
          "base_uri": "https://localhost:8080/"
        },
        "id": "Ieaxvol2bAno",
        "outputId": "d1705d63-94a7-4fca-95e0-4a0f6f9e1b8a"
      },
      "source": [
        "x0 = [1,5,5,1]\n",
        "print(objective(x0))"
      ],
      "execution_count": 4,
      "outputs": [
        {
          "output_type": "stream",
          "text": [
            "16\n"
          ],
          "name": "stdout"
        }
      ]
    },
    {
      "cell_type": "code",
      "metadata": {
        "id": "AIv1-uQIbAqK"
      },
      "source": [
        "b = (1.0,5.0)\n",
        "bnds = (b,b,b,b)\n",
        "con1 = {'type':'ineq', 'fun':constraint1}\n",
        "con2 = {'type':'eq', 'fun':constraint2}\n",
        "cons = [con1, con2]"
      ],
      "execution_count": 8,
      "outputs": []
    },
    {
      "cell_type": "code",
      "metadata": {
        "id": "UPrRSDX2bAs1"
      },
      "source": [
        "sol = minimize(objective, x0, method='SLSQP', bounds=bnds, constraints=cons)"
      ],
      "execution_count": 9,
      "outputs": []
    },
    {
      "cell_type": "code",
      "metadata": {
        "colab": {
          "base_uri": "https://localhost:8080/"
        },
        "id": "XXKVApysbAvd",
        "outputId": "a47758fb-7a9a-427b-ba65-6cf4292cde2d"
      },
      "source": [
        "print(sol)"
      ],
      "execution_count": 10,
      "outputs": [
        {
          "output_type": "stream",
          "text": [
            "     fun: 17.01401724556073\n",
            "     jac: array([14.57227039,  1.37940764,  2.37940764,  9.56415081])\n",
            " message: 'Optimization terminated successfully.'\n",
            "    nfev: 30\n",
            "     nit: 5\n",
            "    njev: 5\n",
            "  status: 0\n",
            " success: True\n",
            "       x: array([1.        , 4.74299607, 3.82115466, 1.37940764])\n"
          ],
          "name": "stdout"
        }
      ]
    },
    {
      "cell_type": "code",
      "metadata": {
        "id": "ASl9ZgOFbAx4"
      },
      "source": [
        ""
      ],
      "execution_count": null,
      "outputs": []
    },
    {
      "cell_type": "code",
      "metadata": {
        "id": "8ap8ODvTbA0e"
      },
      "source": [
        ""
      ],
      "execution_count": null,
      "outputs": []
    },
    {
      "cell_type": "code",
      "metadata": {
        "id": "aI5e-bpmbA3X"
      },
      "source": [
        ""
      ],
      "execution_count": null,
      "outputs": []
    },
    {
      "cell_type": "code",
      "metadata": {
        "id": "EyS956xjbA5t"
      },
      "source": [
        ""
      ],
      "execution_count": null,
      "outputs": []
    },
    {
      "cell_type": "code",
      "metadata": {
        "id": "zQv5pq96bA8X"
      },
      "source": [
        ""
      ],
      "execution_count": null,
      "outputs": []
    },
    {
      "cell_type": "code",
      "metadata": {
        "id": "TewZvxZEbA_f"
      },
      "source": [
        ""
      ],
      "execution_count": null,
      "outputs": []
    },
    {
      "cell_type": "code",
      "metadata": {
        "id": "rCqrahURbBCH"
      },
      "source": [
        ""
      ],
      "execution_count": null,
      "outputs": []
    },
    {
      "cell_type": "code",
      "metadata": {
        "id": "C8ndhQ0xbBEr"
      },
      "source": [
        ""
      ],
      "execution_count": null,
      "outputs": []
    }
  ]
}